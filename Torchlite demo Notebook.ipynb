{
 "cells": [
  {
   "cell_type": "markdown",
   "id": "e0f35dfc",
   "metadata": {},
   "source": [
    "Welcome to a demo of Torchlite in a Jupyter Notebook!"
   ]
  },
  {
   "cell_type": "markdown",
   "id": "613032b0",
   "metadata": {},
   "source": [
    "In this demo, we're going to show how to use Torchlite to access extracted features from an HTRC workset.  We're going to use torchlite's htrc-extracted-features library to do this in Python.  For this demo, we've already downloaded the htrc-extracted-features library into the Jupyter kernel; here in the Notebook, all we have to do is import it."
   ]
  },
  {
   "cell_type": "code",
   "execution_count": 1,
   "id": "79029980",
   "metadata": {},
   "outputs": [],
   "source": [
    "from htrc.torchlite.ef.workset import WorkSet"
   ]
  },
  {
   "cell_type": "markdown",
   "id": "81163f2b",
   "metadata": {},
   "source": [
    "The torchlite dashboard includes a widget for selecting a workset from a pre-built list of worksets, but we're not showing that here. For the demo, we'll use one of these: a small one containing four volumes.  "
   ]
  },
  {
   "cell_type": "code",
   "execution_count": 2,
   "id": "8bc883ca",
   "metadata": {},
   "outputs": [],
   "source": [
    "my_worksetid = '63f7ae452500006404fc54c7'"
   ]
  },
  {
   "cell_type": "markdown",
   "id": "363d4545",
   "metadata": {},
   "source": [
    "This demo assumes you are somewhat familiar with basic Python, and that you know Python is an object-oriented language.  Let's create a WorkSet object that is associated with our demo workset."
   ]
  },
  {
   "cell_type": "code",
   "execution_count": 3,
   "id": "7b2e4f3f",
   "metadata": {},
   "outputs": [],
   "source": [
    "ws = WorkSet(my_worksetid)"
   ]
  },
  {
   "cell_type": "markdown",
   "id": "32c54de3",
   "metadata": {},
   "source": [
    "Our WorkSet object gives us access to many of the workset properties in the Extracted Features dataset.  For example, we can see what volumes the workset contains:"
   ]
  },
  {
   "cell_type": "code",
   "execution_count": 4,
   "id": "fabdf076",
   "metadata": {},
   "outputs": [
    {
     "data": {
      "text/plain": [
       "[Volume(mdp.35112103187797),\n",
       " Volume(mdp.39015058744122),\n",
       " Volume(uc1.$b684263),\n",
       " Volume(uc1.32106011187561)]"
      ]
     },
     "execution_count": 4,
     "metadata": {},
     "output_type": "execute_result"
    }
   ],
   "source": [
    "ws.volumes"
   ]
  },
  {
   "cell_type": "markdown",
   "id": "414850c2",
   "metadata": {},
   "source": [
    "The Volumes, too, are Python objects whose properties we can access:"
   ]
  },
  {
   "cell_type": "code",
   "execution_count": 5,
   "id": "b748de0e",
   "metadata": {},
   "outputs": [
    {
     "data": {
      "text/plain": [
       "['The Law times reports',\n",
       " 'Highlights of ...',\n",
       " 'The cruise of the Marchesa to Kamschatka & New Guinea.',\n",
       " 'Bilder vom Erzählen : Gedichte /']"
      ]
     },
     "execution_count": 5,
     "metadata": {},
     "output_type": "execute_result"
    }
   ],
   "source": [
    "[v.title for v in ws.volumes]"
   ]
  },
  {
   "cell_type": "code",
   "execution_count": 6,
   "id": "61b37179",
   "metadata": {},
   "outputs": [
    {
     "data": {
      "text/plain": [
       "[1947, 2001, 1889, 2001]"
      ]
     },
     "execution_count": 6,
     "metadata": {},
     "output_type": "execute_result"
    }
   ],
   "source": [
    "[v.pub_date for v in ws.volumes]"
   ]
  },
  {
   "cell_type": "markdown",
   "id": "206899a7",
   "metadata": {},
   "source": [
    "Torchlite's Widgets use these WorkSet objects to access the workset's data and manipulate it for analysis.  A torchlite Widget has two parts: the back end, which applies algorithms and filters to the raw workset data to produce a calculation, and a front-end which takes the results of the calculation and displays a visualization of it in the dashboard.  Torchlite will ship with two widgets: a \"Timeline Widget,\" which displays the publication date of each of the workset's volumes on a graphical timeline; and a \"Map Widget,\" which maps place of birth for persons named in each volume's contributor field on a global map. \n",
    "\n",
    "Let's use the Timeline Widget to calculate the publication dates of each volume in our workset."
   ]
  },
  {
   "cell_type": "code",
   "execution_count": 8,
   "id": "65020e33",
   "metadata": {},
   "outputs": [],
   "source": [
    "from backend.widgets import TimelineWidget"
   ]
  },
  {
   "cell_type": "code",
   "execution_count": 19,
   "id": "991d7ed2",
   "metadata": {},
   "outputs": [
    {
     "name": "stdout",
     "output_type": "stream",
     "text": [
      "[{'title': 'The Law times reports', 'pub_date': 1947}, {'title': 'Highlights of ...', 'pub_date': 2001}, {'title': 'The cruise of the Marchesa to Kamschatka & New Guinea.', 'pub_date': 1889}, {'title': 'Bilder vom Erzählen : Gedichte /', 'pub_date': 2001}]\n"
     ]
    }
   ],
   "source": [
    "my_widget = TimelineWidget()\n",
    "my_widget.workset = ws\n",
    "print(my_widget.data)"
   ]
  },
  {
   "cell_type": "markdown",
   "id": "3d3223ca",
   "metadata": {},
   "source": [
    "The widget's back-end component generates a JSON object containing all the data the front-end component needs to display a timeline.  The front-end of the widget doesn't have to know about worksets, or volume metadata properties: all it knows is how to plot dates and labels.\n",
    "\n",
    "This two-part separation corresponds to something fundamental in data science: the visualization is not the data.  Visualizations are simply graphical presentations of data, whose purpose is to make the data easier for people to understand.  That JSON object is not terribly perspicuous; it isn't ordered chronologically, for one thing, and if there were more than a few volumes in the workset, the JSON syntax would quickly get in the way of a human being's \"reading\" the data.  Visualizations are so useful and powerful because they create an interpretation of the data that is easier for humans to read.\n",
    "\n",
    "A visualization is not the data; it is a reading of the data."
   ]
  }
 ],
 "metadata": {
  "kernelspec": {
   "display_name": "Python 3 (ipykernel)",
   "language": "python",
   "name": "python3"
  },
  "language_info": {
   "codemirror_mode": {
    "name": "ipython",
    "version": 3
   },
   "file_extension": ".py",
   "mimetype": "text/x-python",
   "name": "python",
   "nbconvert_exporter": "python",
   "pygments_lexer": "ipython3",
   "version": "3.11.2"
  }
 },
 "nbformat": 4,
 "nbformat_minor": 5
}
